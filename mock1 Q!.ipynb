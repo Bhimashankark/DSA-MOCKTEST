{
 "cells": [
  {
   "cell_type": "code",
   "execution_count": 19,
   "id": "4f283fd5-5344-4c15-bf2e-82460b583102",
   "metadata": {},
   "outputs": [
    {
     "name": "stdout",
     "output_type": "stream",
     "text": [
      "[1, 3, 12, 0, 0]\n",
      "[0]\n"
     ]
    }
   ],
   "source": [
    "def moveZeros(number):\n",
    "    left = 0  \n",
    "    right = 0 \n",
    "    while right < len(number):\n",
    "        \n",
    "        if number[right] != 0:   \n",
    "            number[left] = number[right]\n",
    "            left += 1 \n",
    "\n",
    "        right += 1  \n",
    "\n",
    "    while left < len(number):\n",
    "        number[left] = 0\n",
    "        left += 1\n",
    "\n",
    "    return number\n",
    "\n",
    "nums1 = [0, 1, 0, 3, 12]\n",
    "print(moveZeros(nums1))  \n",
    "\n",
    "nums2 = [0]\n",
    "print(moveZeros(nums2)) \n"
   ]
  },
  {
   "cell_type": "code",
   "execution_count": null,
   "id": "ae11010e-31af-4c8b-9402-370b8bace9d5",
   "metadata": {},
   "outputs": [],
   "source": []
  }
 ],
 "metadata": {
  "kernelspec": {
   "display_name": "Python 3 (ipykernel)",
   "language": "python",
   "name": "python3"
  },
  "language_info": {
   "codemirror_mode": {
    "name": "ipython",
    "version": 3
   },
   "file_extension": ".py",
   "mimetype": "text/x-python",
   "name": "python",
   "nbconvert_exporter": "python",
   "pygments_lexer": "ipython3",
   "version": "3.10.8"
  }
 },
 "nbformat": 4,
 "nbformat_minor": 5
}
