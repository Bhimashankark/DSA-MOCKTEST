{
 "cells": [
  {
   "cell_type": "markdown",
   "id": "dd4406eb-dda5-4bca-9036-a487d4350398",
   "metadata": {},
   "source": [
    "# MOCK TEST - 2"
   ]
  },
  {
   "cell_type": "markdown",
   "id": "7568a89c-9e5f-4e9a-a904-f72b22e28ce7",
   "metadata": {},
   "source": [
    "## ANSWER - 17"
   ]
  },
  {
   "cell_type": "code",
   "execution_count": 1,
   "id": "a332ba88-c743-418f-a8ca-9d485c9dac1f",
   "metadata": {},
   "outputs": [
    {
     "name": "stdout",
     "output_type": "stream",
     "text": [
      "[2, 4, 6, 8, 10]\n"
     ]
    }
   ],
   "source": [
    "def get_even_numbers(numbers):\n",
    "    return [num for num in numbers if num % 2 == 0]\n",
    "\n",
    "input_list = [1, 2, 3, 4, 5, 6, 7, 8, 9, 10]\n",
    "output_list = get_even_numbers(input_list)\n",
    "print(output_list)\n"
   ]
  },
  {
   "cell_type": "markdown",
   "id": "918d4989-0e38-4e2c-9fe5-008a101683a1",
   "metadata": {},
   "source": [
    "## ANSWER - 18"
   ]
  },
  {
   "cell_type": "code",
   "execution_count": 3,
   "id": "68a07f3e-2150-45e5-b73c-8d7a131dcad8",
   "metadata": {},
   "outputs": [
    {
     "name": "stdout",
     "output_type": "stream",
     "text": [
      "Execution time: 2.00206 seconds\n"
     ]
    }
   ],
   "source": [
    "import time\n",
    "\n",
    "def timer(func):\n",
    "    def wrapper(*args, **kwargs):\n",
    "        start_time = time.time()\n",
    "        result = func(*args, **kwargs)\n",
    "        end_time = time.time()\n",
    "        execution_time = end_time - start_time\n",
    "        print(f\"Execution time: {execution_time:.5f} seconds\")\n",
    "        return result\n",
    "    return wrapper\n",
    "\n",
    "@timer\n",
    "def my_function():\n",
    "    # Function code goes here\n",
    "    time.sleep(2)\n",
    "\n",
    "my_function()\n"
   ]
  },
  {
   "cell_type": "markdown",
   "id": "1df76445-e9fe-42ce-a6dc-bc99bece1dbd",
   "metadata": {},
   "source": [
    "## ANSWER - 19"
   ]
  },
  {
   "cell_type": "code",
   "execution_count": 4,
   "id": "5bdf6b60-e5a2-4aa1-a6f6-f35bc9b958c3",
   "metadata": {},
   "outputs": [
    {
     "name": "stdout",
     "output_type": "stream",
     "text": [
      "Mean: 20.0\n"
     ]
    }
   ],
   "source": [
    "def calculate_mean(numbers):\n",
    "    total = sum(numbers)\n",
    "    count = len(numbers)\n",
    "    mean = total / count\n",
    "    return mean\n",
    "\n",
    "data = [10, 15, 20, 25, 30]\n",
    "mean_value = calculate_mean(data)\n",
    "print(\"Mean:\", mean_value)\n"
   ]
  },
  {
   "cell_type": "markdown",
   "id": "51fa8002-2afd-47f8-8815-008a0f1932fd",
   "metadata": {},
   "source": [
    "## ANSWER - 20\n"
   ]
  },
  {
   "cell_type": "code",
   "execution_count": 6,
   "id": "ae1a1862-2971-4bc3-a756-ac10cfceb92e",
   "metadata": {},
   "outputs": [
    {
     "name": "stdout",
     "output_type": "stream",
     "text": [
      "P-value: 0.09434977284243756\n"
     ]
    }
   ],
   "source": [
    "from scipy import stats\n",
    "\n",
    "def perform_hypothesis_test(sample1, sample2):\n",
    "    t_statistic, p_value = stats.ttest_ind(sample1, sample2)\n",
    "    return p_value\n",
    "\n",
    "sample1 = [5, 10, 15, 20, 25]\n",
    "sample2 = [10, 20, 30, 40, 50]\n",
    "p_value = perform_hypothesis_test(sample1, sample2)\n",
    "print(\"P-value:\", p_value)\n"
   ]
  },
  {
   "cell_type": "code",
   "execution_count": null,
   "id": "ec862b84-e1be-4b45-9508-b16740c3e8fd",
   "metadata": {},
   "outputs": [],
   "source": []
  }
 ],
 "metadata": {
  "kernelspec": {
   "display_name": "Python 3 (ipykernel)",
   "language": "python",
   "name": "python3"
  },
  "language_info": {
   "codemirror_mode": {
    "name": "ipython",
    "version": 3
   },
   "file_extension": ".py",
   "mimetype": "text/x-python",
   "name": "python",
   "nbconvert_exporter": "python",
   "pygments_lexer": "ipython3",
   "version": "3.10.8"
  }
 },
 "nbformat": 4,
 "nbformat_minor": 5
}
